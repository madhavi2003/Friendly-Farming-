{
 "cells": [
  {
   "cell_type": "code",
   "execution_count": 4,
   "id": "567b2da3-d8e8-4e96-98ac-a3a73099e6ca",
   "metadata": {},
   "outputs": [
    {
     "name": "stdout",
     "output_type": "stream",
     "text": [
      "2.13.1\n"
     ]
    }
   ],
   "source": [
    "import keras\n",
    "print(keras.__version__)"
   ]
  },
  {
   "cell_type": "code",
   "execution_count": 5,
   "id": "84afb747",
   "metadata": {},
   "outputs": [
    {
     "name": "stdout",
     "output_type": "stream",
     "text": [
      "2.13.1\n"
     ]
    }
   ],
   "source": [
    "import keras\n",
    "print(keras.__version__)"
   ]
  },
  {
   "cell_type": "code",
   "execution_count": 1,
   "id": "f2a16439-4d63-42cd-a81a-6f1d98857247",
   "metadata": {},
   "outputs": [
    {
     "name": "stdout",
     "output_type": "stream",
     "text": [
      " * Serving Flask app '__main__'\n",
      " * Debug mode: off\n"
     ]
    },
    {
     "name": "stderr",
     "output_type": "stream",
     "text": [
      "WARNING: This is a development server. Do not use it in a production deployment. Use a production WSGI server instead.\n",
      " * Running on http://127.0.0.1:5000\n",
      "Press CTRL+C to quit\n",
      "127.0.0.1 - - [19/Dec/2023 15:21:11] \"GET / HTTP/1.1\" 200 -\n",
      "127.0.0.1 - - [19/Dec/2023 15:21:13] \"GET /favicon.ico HTTP/1.1\" 404 -\n"
     ]
    },
    {
     "name": "stdout",
     "output_type": "stream",
     "text": [
      "1/1 [==============================] - 5s 5s/step\n"
     ]
    },
    {
     "name": "stderr",
     "output_type": "stream",
     "text": [
      "127.0.0.1 - - [19/Dec/2023 15:21:37] \"POST /submit HTTP/1.1\" 200 -\n",
      "127.0.0.1 - - [19/Dec/2023 15:21:37] \"GET /static/image%20(1).JPG HTTP/1.1\" 200 -\n",
      "127.0.0.1 - - [19/Dec/2023 15:21:53] \"GET / HTTP/1.1\" 200 -\n"
     ]
    },
    {
     "name": "stdout",
     "output_type": "stream",
     "text": [
      "1/1 [==============================] - 0s 204ms/step\n"
     ]
    },
    {
     "name": "stderr",
     "output_type": "stream",
     "text": [
      "127.0.0.1 - - [19/Dec/2023 15:22:06] \"POST /submit HTTP/1.1\" 200 -\n",
      "127.0.0.1 - - [19/Dec/2023 15:22:06] \"GET /static/image%20(6).JPG HTTP/1.1\" 200 -\n"
     ]
    },
    {
     "name": "stdout",
     "output_type": "stream",
     "text": [
      "1/1 [==============================] - 0s 131ms/step\n"
     ]
    },
    {
     "name": "stderr",
     "output_type": "stream",
     "text": [
      "127.0.0.1 - - [19/Dec/2023 15:23:11] \"POST /submit HTTP/1.1\" 200 -\n",
      "127.0.0.1 - - [19/Dec/2023 15:23:11] \"GET /static/dis.jpg HTTP/1.1\" 200 -\n"
     ]
    }
   ],
   "source": [
    "from flask import Flask, render_template, request\n",
    "from tensorflow.keras.models import load_model\n",
    "from tensorflow.keras.preprocessing import image\n",
    "\n",
    "app = Flask(__name__)\n",
    "\n",
    "dic = {0: 'Potato___Late_blight', 1: 'Mango__diseased', 2: 'Apple___Cedar_apple_rust', 3: 'Apple___healthy', 4: 'Chili__leaf curl', 5: 'Corn___Northern_Leaf_Blight', 6: 'Wheat__brown_rust', 7: 'Cherry___Powdery_mildew', 8: 'Apple___Apple_scab', 9: 'Rice__brown_spot', 10: 'Tomato___Leaf_Mold', 11: 'Blueberry___healthy', 12: 'Coffee__cercospora_leaf_spot', 13: 'Cucumber__diseased', 14: 'Strawberry___Leaf_scorch', 15: 'Wheat__septoria', 16: 'Tomato___Tomato_Yellow_Leaf_Curl_Virus', 17: 'Pepper,_bell___Bacterial_spot', 18: 'Tomato___Early_blight', 19: 'Pepper,_bell___healthy', 20: 'Wheat__yellow_rust', 21: 'Sugarcane__bacterial_blight', 22: 'Rice__hispa', 23: 'Tomato___Bacterial_spot', 24: 'Grape___Leaf_blight_(Isariopsis_Leaf_Spot)', 25: 'Potato___Early_blight', 26: 'Coffee__red_spider_mite', 27: 'Grape___Esca_(Black_Measles)', 28: 'Chili__yellowish', 29: 'Grape___Black_rot', 30: 'Tea__anthracnose', 31: 'Tea__red_leaf_spot', 32: 'Potato___healthy', 33: 'Cherry___healthy', 34: 'Corn___Cercospora_leaf_spot Gray_leaf_spot', 35: 'Tomato___healthy', 36: 'Corn___Common_rust', 37: 'Gauva__diseased', 38: 'Grape___healthy', 39: 'Tea__algal_leaf', 40: 'Lemon__diseased', 41: 'Corn___healthy', 42: 'Sugarcane__red_rot', 43: 'Tomato___Late_blight', 44: 'Tomato___Spider_mites Two-spotted_spider_mite', 45: 'Rice__neck_blast', 46: 'Tomato___Target_Spot', 47: 'Tomato___Septoria_leaf_spot', 48: 'Sugarcane__rust', 49: 'Orange___Haunglongbing_(Citrus_greening)', 50: 'Apple___Black_rot', 51: 'Tomato___Tomato_mosaic_virus'}\n",
    "model = load_model('model.h5')\n",
    "\n",
    "model.make_predict_function()\n",
    "\n",
    "import numpy as np\n",
    "\n",
    "def predict_label(img_path):\n",
    "    i = image.load_img(img_path, target_size=(32, 32))\n",
    "    i = image.img_to_array(i) / 255.0\n",
    "    i = i.reshape(1, 32, 32, 3)\n",
    "    p = model.predict(i)\n",
    "    predicted_class_index = np.argmax(p)\n",
    "    return dic[predicted_class_index]\n",
    "\n",
    "\n",
    "\n",
    "# routes\n",
    "@app.route(\"/\", methods=['GET', 'POST'])\n",
    "def main():\n",
    "\treturn render_template(\"index.html\")\n",
    "\n",
    "@app.route(\"/about\")\n",
    "def about_page():\n",
    "\treturn \"Hope this website is useful\"\n",
    "@app.route(\"/submit\", methods = ['GET','POST'])\n",
    "def get_output():\n",
    "\tif request.method == 'POST':\n",
    "\t\timg = request.files['my_image']\n",
    "\n",
    "\t\timg_path = \"static/\" + img.filename\t\n",
    "\t\timg.save(img_path)\n",
    "\n",
    "\t\tp = predict_label(img_path)\n",
    "\n",
    "\treturn render_template(\"index.html\", prediction = p, img_path = img_path)\n",
    "\n",
    "\n",
    "if __name__ =='__main__':\n",
    "\t#app.debug = True\n",
    "\tapp.run(port=5000)\n"
   ]
  },
  {
   "cell_type": "code",
   "execution_count": null,
   "id": "d3ffb35f",
   "metadata": {},
   "outputs": [],
   "source": []
  }
 ],
 "metadata": {
  "kernelspec": {
   "display_name": "Python 3.8.10 64-bit",
   "language": "python",
   "name": "python3"
  },
  "language_info": {
   "codemirror_mode": {
    "name": "ipython",
    "version": 3
   },
   "file_extension": ".py",
   "mimetype": "text/x-python",
   "name": "python",
   "nbconvert_exporter": "python",
   "pygments_lexer": "ipython3",
   "version": "3.8.10"
  },
  "vscode": {
   "interpreter": {
    "hash": "31f2aee4e71d21fbe5cf8b01ff0e069b9275f58929596ceb00d14d90e3e16cd6"
   }
  }
 },
 "nbformat": 4,
 "nbformat_minor": 5
}
